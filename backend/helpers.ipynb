{
 "cells": [
  {
   "cell_type": "code",
   "execution_count": 1,
   "metadata": {},
   "outputs": [],
   "source": [
    "#\n",
    "\n",
    "#function to expend credits \n",
    "\n",
    "#read_credits(walletg)\n",
    "\n",
    "\n",
    "import requests\n",
    "import json\n"
   ]
  },
  {
   "cell_type": "code",
   "execution_count": 20,
   "metadata": {},
   "outputs": [
    {
     "name": "stdout",
     "output_type": "stream",
     "text": [
      "{\"txn_hash\":\"0xd59202e16ed39297a638c8cdb60bd3ce0a716368e2c396da97708b480cd09ee4\"}\n",
      "\n"
     ]
    }
   ],
   "source": [
    "url = 'http://127.0.0.1:5000/authorize_release'\n",
    "data = {'offerId': 0}\n",
    "headers = {'Content-Type': 'application/json'}\n",
    "\n",
    "response = requests.post(url, data=json.dumps(data), headers=headers)\n",
    "print(response.text)\n"
   ]
  },
  {
   "cell_type": "code",
   "execution_count": 26,
   "metadata": {},
   "outputs": [
    {
     "name": "stdout",
     "output_type": "stream",
     "text": [
      "Database db.db and table users created successfully.\n"
     ]
    }
   ],
   "source": [
    "import sqlite3\n",
    "\n",
    "def create_database(db_name):\n",
    "    conn = sqlite3.connect(f'../db/{db_name}.db')\n",
    "    c = conn.cursor()\n",
    "\n",
    "    c.execute('''\n",
    "        CREATE TABLE IF NOT EXISTS users (\n",
    "            user TEXT NOT NULL,\n",
    "            credits INTEGER NOT NULL\n",
    "        );\n",
    "    ''')\n",
    "\n",
    "    conn.commit()\n",
    "    conn.close()\n",
    "\n",
    "    print(f'Database {db_name}.db and table users created successfully.')\n",
    "\n",
    "create_database('db')\n"
   ]
  },
  {
   "cell_type": "code",
   "execution_count": 1,
   "metadata": {},
   "outputs": [
    {
     "ename": "SyntaxError",
     "evalue": "invalid syntax (4215951243.py, line 27)",
     "output_type": "error",
     "traceback": [
      "\u001b[1;36m  Cell \u001b[1;32mIn[1], line 27\u001b[1;36m\u001b[0m\n\u001b[1;33m    test_update_credits()S\u001b[0m\n\u001b[1;37m                         ^\u001b[0m\n\u001b[1;31mSyntaxError\u001b[0m\u001b[1;31m:\u001b[0m invalid syntax\n"
     ]
    }
   ],
   "source": [
    "\n",
    "base_url = 'http://127.0.0.1:5000'\n",
    "\n",
    "def test_add_user():\n",
    "    url = f'{base_url}/add_user'\n",
    "    data = {'user': 'bob', 'credits': 100}\n",
    "    headers = {'Content-Type': 'application/json'}\n",
    "\n",
    "    response = requests.post(url, data=json.dumps(data), headers=headers)\n",
    "    print('Add User Response:', response.text)\n",
    "\n",
    "def test_get_credits():\n",
    "    url = f'{base_url}/get_credits/bob'\n",
    "\n",
    "    response = requests.get(url)\n",
    "    print('Get Credits Response:', response.text)\n",
    "\n",
    "def test_update_credits():\n",
    "    url = f'{base_url}/update_credits'\n",
    "    data = {'user': 'bob', 'credits': 200}\n",
    "    headers = {'Content-Type': 'application/json'}\n",
    "\n",
    "    response = requests.post(url, data=json.dumps(data), headers=headers)\n",
    "    print('Update Credits Response:', response.text)\n",
    "\n",
    "test_add_user()\n",
    "test_get_credits()\n",
    "test_update_credits()"
   ]
  }
 ],
 "metadata": {
  "kernelspec": {
   "display_name": "Python 3",
   "language": "python",
   "name": "python3"
  },
  "language_info": {
   "codemirror_mode": {
    "name": "ipython",
    "version": 3
   },
   "file_extension": ".py",
   "mimetype": "text/x-python",
   "name": "python",
   "nbconvert_exporter": "python",
   "pygments_lexer": "ipython3",
   "version": "3.10.11"
  },
  "orig_nbformat": 4
 },
 "nbformat": 4,
 "nbformat_minor": 2
}
