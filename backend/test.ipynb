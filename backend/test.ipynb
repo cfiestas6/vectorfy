{
 "cells": [
  {
   "cell_type": "code",
   "execution_count": 2,
   "metadata": {},
   "outputs": [
    {
     "name": "stdout",
     "output_type": "stream",
     "text": [
      "Requirement already satisfied: requests in c:\\users\\workstation\\anaconda3\\envs\\uniswap\\lib\\site-packages (2.29.0)\n",
      "Requirement already satisfied: idna<4,>=2.5 in c:\\users\\workstation\\anaconda3\\envs\\uniswap\\lib\\site-packages (from requests) (3.4)\n",
      "Requirement already satisfied: charset-normalizer<4,>=2 in c:\\users\\workstation\\anaconda3\\envs\\uniswap\\lib\\site-packages (from requests) (3.1.0)\n",
      "Requirement already satisfied: certifi>=2017.4.17 in c:\\users\\workstation\\anaconda3\\envs\\uniswap\\lib\\site-packages (from requests) (2022.12.7)\n",
      "Requirement already satisfied: urllib3<1.27,>=1.21.1 in c:\\users\\workstation\\anaconda3\\envs\\uniswap\\lib\\site-packages (from requests) (1.26.15)\n"
     ]
    }
   ],
   "source": [
    "!pip install requests\n",
    "\n"
   ]
  },
  {
   "cell_type": "code",
   "execution_count": null,
   "metadata": {},
   "outputs": [],
   "source": [
    "import requests\n",
    "import json\n",
    "\n",
    "BASE_URL = \"http://127.0.0.1:5000\"\n",
    "\n",
    "def authorize_release(offerId):\n",
    "    response = requests.post(\n",
    "        f\"{BASE_URL}/authorize_release\",\n",
    "        json={\"offerId\": offerId}\n",
    "    )\n",
    "    return response.json()\n",
    "\n",
    "def slash_funds(offerId, amount):\n",
    "    response = requests.post(\n",
    "        f\"{BASE_URL}/slash_funds\",\n",
    "        json={\"offerId\": offerId, \"amount\": amount}\n",
    "    )\n",
    "    return response.json()\n",
    "\n",
    "if __name__ == \"__main__\":\n",
    "    # Test authorize_release\n",
    "    offer_id_for_authorize = 1  # Replace with your desired offerId\n",
    "    response = authorize_release(offer_id_for_authorize)\n",
    "    print(f\"Authorize Release Response: {json.dumps(response, indent=2)}\")\n",
    "\n",
    "    # Test slash_funds\n",
    "    offer_id_for_slash = 1  # Replace with your desired offerId\n",
    "    amount_for_slash = 100  # Replace with your desired amount\n",
    "    response = slash_funds(offer_id_for_slash, amount_for_slash)\n",
    "    print(f\"Slash Funds Response: {json.dumps(response, indent=2)}\")\n"
   ]
  },
  {
   "cell_type": "code",
   "execution_count": null,
   "metadata": {},
   "outputs": [],
   "source": [
    "import"
   ]
  }
 ],
 "metadata": {
  "kernelspec": {
   "display_name": "Python 3",
   "language": "python",
   "name": "python3"
  },
  "language_info": {
   "codemirror_mode": {
    "name": "ipython",
    "version": 3
   },
   "file_extension": ".py",
   "mimetype": "text/x-python",
   "name": "python",
   "nbconvert_exporter": "python",
   "pygments_lexer": "ipython3",
   "version": "3.10.11"
  },
  "orig_nbformat": 4
 },
 "nbformat": 4,
 "nbformat_minor": 2
}
